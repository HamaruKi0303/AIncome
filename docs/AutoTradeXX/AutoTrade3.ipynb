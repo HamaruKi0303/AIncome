{
 "cells": [
  {
   "cell_type": "markdown",
   "metadata": {
    "id": "RvX_AkY2MLJt"
   },
   "source": [
    "## Google Drive setting"
   ]
  },
  {
   "cell_type": "code",
   "execution_count": null,
   "metadata": {
    "id": "cRMDX7D6MNHg"
   },
   "outputs": [],
   "source": [
    "from google.colab import drive\n",
    "drive.mount('/content/drive')"
   ]
  },
  {
   "cell_type": "code",
   "execution_count": null,
   "metadata": {
    "id": "HDR2YE9SMTqH"
   },
   "outputs": [],
   "source": [
    "%cd /content/drive/MyDrive/AIncome"
   ]
  },
  {
   "cell_type": "code",
   "execution_count": null,
   "metadata": {
    "id": "gwdczblpM4xP"
   },
   "outputs": [],
   "source": [
    "!pwd"
   ]
  },
  {
   "cell_type": "markdown",
   "metadata": {
    "id": "7-96LqIvNnk_"
   },
   "source": [
    "### 作業フォルダ"
   ]
  },
  {
   "cell_type": "code",
   "execution_count": null,
   "metadata": {
    "id": "SShPyKDXNbp7"
   },
   "outputs": [],
   "source": [
    "!mkdir AutoTrade02"
   ]
  },
  {
   "cell_type": "code",
   "execution_count": null,
   "metadata": {
    "id": "r8Y7yU4-Ng0s"
   },
   "outputs": [],
   "source": [
    "%cd  AutoTrade02"
   ]
  },
  {
   "cell_type": "code",
   "execution_count": null,
   "metadata": {
    "id": "OtAGeHRkNkjB"
   },
   "outputs": [],
   "source": [
    "!pwd"
   ]
  },
  {
   "cell_type": "markdown",
   "metadata": {
    "id": "Msonyv-eXUAE"
   },
   "source": [
    "## 必要パッケージのインストール"
   ]
  },
  {
   "cell_type": "code",
   "execution_count": null,
   "metadata": {
    "id": "Dtz4p9gIXPFJ"
   },
   "outputs": [],
   "source": [
    "#!pip install gym[all] -U\n",
    "!pip install \"gym==0.19.0\"\n",
    "!pip install stable-baselines[mpi]\n",
    "!pip install tensorflow==1.14.0\n",
    "!pip install pyqt5\n",
    "!pip install imageio\n",
    "!pip install gym-anytrading"
   ]
  },
  {
   "cell_type": "code",
   "execution_count": null,
   "metadata": {
    "id": "84Vh2BIORIHu"
   },
   "outputs": [],
   "source": [
    "!pip uninstall tensorboard-plugin-wit --yes"
   ]
  },
  {
   "cell_type": "markdown",
   "metadata": {
    "id": "mBgBaaNQYFYq"
   },
   "source": [
    "## インポート\n"
   ]
  },
  {
   "cell_type": "code",
   "execution_count": null,
   "metadata": {
    "id": "9R2e4Mf0YH7f"
   },
   "outputs": [],
   "source": [
    "import os, gym\n",
    "import gym_anytrading\n",
    "import matplotlib.pyplot as plt\n",
    "from gym_anytrading.envs import TradingEnv, ForexEnv, StocksEnv, Actions, Positions\n",
    "from gym_anytrading.datasets import FOREX_EURUSD_1H_ASK, STOCKS_GOOGL\n",
    "from stable_baselines.common.vec_env import DummyVecEnv\n",
    "from stable_baselines import PPO2\n",
    "from stable_baselines import ACKTR\n",
    "from stable_baselines.bench import Monitor\n",
    "from stable_baselines.common import set_global_seeds"
   ]
  },
  {
   "cell_type": "markdown",
   "metadata": {
    "id": "IpZKmwy2S6aF"
   },
   "source": [
    "## 設定"
   ]
  },
  {
   "cell_type": "code",
   "execution_count": null,
   "metadata": {
    "id": "Xa4bk-z5S5wz"
   },
   "outputs": [],
   "source": [
    "# ログフォルダの生成\n",
    "log_dir = './logs/'\n",
    "os.makedirs(log_dir, exist_ok=True)\n",
    "\n",
    "\n",
    "# train data\n",
    "idx1 = 10\n",
    "idx2 = 300\n",
    "\n",
    "# test data\n",
    "idx3 = 400\n"
   ]
  },
  {
   "cell_type": "markdown",
   "metadata": {
    "id": "ULkf36GnS98e"
   },
   "source": [
    "## 環境の生成"
   ]
  },
  {
   "cell_type": "code",
   "execution_count": null,
   "metadata": {
    "id": "tkSKFvfIS9js"
   },
   "outputs": [],
   "source": [
    "# 環境の生成\n",
    "env = gym.make('forex-v0', frame_bound=(idx1, idx2), window_size=10)\n",
    "env = Monitor(env, log_dir, allow_early_resets=True)\n",
    "\n",
    "# シードの指定\n",
    "env.seed(0)\n",
    "set_global_seeds(0)\n",
    "\n",
    "# ベクトル化環境の生成\n",
    "env = DummyVecEnv([lambda: env])\n",
    "\n",
    "# モデルの生成\n",
    "model = PPO2('MlpPolicy', env, tensorboard_log=log_dir)\n",
    "#model = ACKTR('MlpPolicy', env, verbose=1)\n",
    "\n",
    "# モデルの読み込み\n",
    "# model = PPO2.load('trading_model')"
   ]
  },
  {
   "cell_type": "markdown",
   "metadata": {
    "id": "B1h_Ee9cTEoo"
   },
   "source": [
    "## 学習"
   ]
  },
  {
   "cell_type": "code",
   "execution_count": null,
   "metadata": {
    "id": "n2xoqLJvTHyl"
   },
   "outputs": [],
   "source": [
    "# モデルの学習\n",
    "model.learn(total_timesteps=128000)\n",
    "\n",
    "# モデルの保存\n",
    "model.save('trading_model3.0')"
   ]
  },
  {
   "cell_type": "markdown",
   "metadata": {
    "id": "QdEw6F8USdYJ"
   },
   "source": [
    "## モデルのテスト"
   ]
  },
  {
   "cell_type": "code",
   "execution_count": null,
   "metadata": {
    "id": "sF7GRPRCSXgA"
   },
   "outputs": [],
   "source": [
    "env = gym.make('forex-v0', frame_bound=(idx2, idx3), window_size=10)\n",
    "env.seed(0)\n",
    "state = env.reset()\n",
    "while True:\n",
    "    # 行動の取得\n",
    "    action, _ = model.predict(state)\n",
    "    # 1ステップ実行\n",
    "    state, reward, done, info = env.step(action)\n",
    "    # エピソード完了\n",
    "    if done:\n",
    "        print('info:', info)\n",
    "        break"
   ]
  },
  {
   "cell_type": "markdown",
   "metadata": {
    "id": "9HdrP9GMSjqK"
   },
   "source": [
    "## グラフのプロット"
   ]
  },
  {
   "cell_type": "code",
   "execution_count": null,
   "metadata": {
    "id": "V9TuqA5KSl6k"
   },
   "outputs": [],
   "source": [
    "plt.cla()\n",
    "env.render_all()\n",
    "plt.show()"
   ]
  },
  {
   "cell_type": "code",
   "execution_count": null,
   "metadata": {
    "id": "8tFvqfW-oWbd"
   },
   "outputs": [],
   "source": [
    "# Load the TensorBoard notebook extension\n",
    "%load_ext tensorboard"
   ]
  },
  {
   "cell_type": "code",
   "execution_count": null,
   "metadata": {
    "id": "O074hE4mpLLo"
   },
   "outputs": [],
   "source": [
    "%tensorboard --logdir logs/"
   ]
  }
 ],
 "metadata": {
  "colab": {
   "collapsed_sections": [],
   "name": "AutoTrade3.ipynb",
   "provenance": []
  },
  "kernelspec": {
   "display_name": "Python 3 (ipykernel)",
   "language": "python",
   "name": "python3"
  },
  "language_info": {
   "codemirror_mode": {
    "name": "ipython",
    "version": 3
   },
   "file_extension": ".py",
   "mimetype": "text/x-python",
   "name": "python",
   "nbconvert_exporter": "python",
   "pygments_lexer": "ipython3",
   "version": "3.9.12"
  },
  "toc": {
   "base_numbering": 1,
   "nav_menu": {},
   "number_sections": true,
   "sideBar": true,
   "skip_h1_title": true,
   "title_cell": "Table of Contents",
   "title_sidebar": "Contents",
   "toc_cell": false,
   "toc_position": {},
   "toc_section_display": true,
   "toc_window_display": false
  }
 },
 "nbformat": 4,
 "nbformat_minor": 1
}
