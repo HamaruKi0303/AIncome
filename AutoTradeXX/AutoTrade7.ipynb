{
 "cells": [
  {
   "cell_type": "markdown",
   "metadata": {
    "id": "RvX_AkY2MLJt"
   },
   "source": [
    "## Google Drive setting"
   ]
  },
  {
   "cell_type": "code",
   "execution_count": null,
   "metadata": {
    "id": "cRMDX7D6MNHg"
   },
   "outputs": [],
   "source": [
    "from google.colab import drive\n",
    "drive.mount('/content/drive')"
   ]
  },
  {
   "cell_type": "code",
   "execution_count": null,
   "metadata": {
    "id": "HDR2YE9SMTqH"
   },
   "outputs": [],
   "source": [
    "%cd /content/drive/MyDrive/AIncome"
   ]
  },
  {
   "cell_type": "code",
   "execution_count": null,
   "metadata": {
    "collapsed": true,
    "id": "gwdczblpM4xP"
   },
   "outputs": [],
   "source": [
    "!pwd"
   ]
  },
  {
   "cell_type": "markdown",
   "metadata": {
    "id": "7-96LqIvNnk_"
   },
   "source": [
    "### 作業フォルダ"
   ]
  },
  {
   "cell_type": "code",
   "execution_count": null,
   "metadata": {
    "id": "SShPyKDXNbp7"
   },
   "outputs": [],
   "source": [
    "!mkdir AutoTrade07_multi"
   ]
  },
  {
   "cell_type": "code",
   "execution_count": null,
   "metadata": {
    "id": "r8Y7yU4-Ng0s"
   },
   "outputs": [],
   "source": [
    "%cd  AutoTrade07_multi"
   ]
  },
  {
   "cell_type": "code",
   "execution_count": null,
   "metadata": {
    "id": "OtAGeHRkNkjB"
   },
   "outputs": [],
   "source": [
    "!pwd"
   ]
  },
  {
   "cell_type": "markdown",
   "metadata": {
    "id": "Msonyv-eXUAE"
   },
   "source": [
    "## 必要パッケージのインストール"
   ]
  },
  {
   "cell_type": "code",
   "execution_count": null,
   "metadata": {
    "id": "Dtz4p9gIXPFJ"
   },
   "outputs": [],
   "source": [
    "\"\"\"\n",
    "#!pip install gym[all] -U\n",
    "!pip install \"gym==0.19.0\"\n",
    "!pip install stable-baselines[mpi]\n",
    "#!pip install tensorflow==1.14.0\n",
    "!pip install tensorflow-gpu==1.14.0\n",
    "!pip install pyqt5\n",
    "!pip install imageio\n",
    "!pip install gym-anytrading\n",
    "\"\"\"\n",
    "!pip install \"gym==0.19.0\"\n",
    "!pip install stable-baselines[mpi]\n",
    "#!pip uninstall -y tensorflow-gpu\n",
    "#!pip uninstall -y tensorflow\n",
    "#!pip install tensorflow-gpu==1.14.0\n",
    "!pip install gym-anytrading"
   ]
  },
  {
   "cell_type": "code",
   "execution_count": null,
   "metadata": {
    "id": "84Vh2BIORIHu"
   },
   "outputs": [],
   "source": [
    "!pip uninstall tensorboard-plugin-wit --yes"
   ]
  },
  {
   "cell_type": "markdown",
   "metadata": {
    "id": "mBgBaaNQYFYq"
   },
   "source": [
    "## インポート\n"
   ]
  },
  {
   "cell_type": "code",
   "execution_count": null,
   "metadata": {
    "id": "9R2e4Mf0YH7f"
   },
   "outputs": [],
   "source": [
    "\"\"\"\n",
    "\n",
    "import gym_anytrading\n",
    "\n",
    "from gym_anytrading.envs import TradingEnv, ForexEnv, StocksEnv, Actions, Positions\n",
    "from gym_anytrading.datasets import FOREX_EURUSD_1H_ASK, STOCKS_GOOGL\n",
    "from stable_baselines.common.vec_env import DummyVecEnv\n",
    "from stable_baselines import PPO2\n",
    "from stable_baselines import ACKTR\n",
    "from stable_baselines.bench import Monitor\n",
    "from stable_baselines.common import set_global_seeds\n",
    "\"\"\"\n",
    "import os, gym\n",
    "import matplotlib.pyplot as plt"
   ]
  },
  {
   "cell_type": "markdown",
   "metadata": {
    "id": "IpZKmwy2S6aF"
   },
   "source": [
    "## 設定"
   ]
  },
  {
   "cell_type": "code",
   "execution_count": null,
   "metadata": {
    "id": "Xa4bk-z5S5wz"
   },
   "outputs": [],
   "source": [
    "\n",
    "# ログフォルダの生成\n",
    "log_dir = './logs/'\n",
    "os.makedirs(log_dir, exist_ok=True)\n",
    "\n",
    "\n",
    "# train data\n",
    "idx1 = 100\n",
    "idx2 = 5000\n",
    "\n",
    "# test data\n",
    "idx3 = 6000\n",
    "\n",
    "window_size = 100\n",
    "\n",
    "trade_fee = 0\n"
   ]
  },
  {
   "cell_type": "markdown",
   "metadata": {
    "id": "ULkf36GnS98e"
   },
   "source": [
    "## 環境の生成"
   ]
  },
  {
   "cell_type": "code",
   "execution_count": null,
   "metadata": {
    "id": "tkSKFvfIS9js"
   },
   "outputs": [],
   "source": [
    "import gym\n",
    "\n",
    "import gym_anytrading\n",
    "from gym_anytrading.envs import TradingEnv, ForexEnv, StocksEnv, Actions, Positions\n",
    "\n",
    "from stable_baselines.common.policies import MlpPolicy\n",
    "from stable_baselines.common import make_vec_env\n",
    "from stable_baselines import PPO2\n",
    "\n",
    "# multiprocess environment\n",
    "env = make_vec_env('forex-v0', n_envs=400)\n",
    "env.trade_fee = trade_fee\n",
    "\n",
    "# model = PPO2(MlpPolicy, env, tensorboard_log=log_dir)\n",
    "model = PPO2('MlpPolicy', env, tensorboard_log=log_dir)\n",
    "\n",
    "model.learn(total_timesteps=2500000)\n",
    "model.save(\"ppo2_forex-v0\")\n",
    "\n",
    "del model # remove to demonstrate saving and loading\n",
    "\n",
    "model = PPO2.load(\"ppo2_forex-v0\")\n",
    "\n"
   ]
  },
  {
   "cell_type": "code",
   "execution_count": null,
   "metadata": {
    "id": "PQdXaotvNNNe"
   },
   "outputs": [],
   "source": [
    "# Enjoy trained agent\n",
    "\n",
    "plt.figure(figsize=(30, 10))\n",
    "obs = env.reset()\n",
    "while True:\n",
    "    action, _states = model.predict(obs)\n",
    "    obs, rewards, dones, info = env.step(action)\n",
    "    # env.render()\n",
    "    # print('info:', info)\n",
    "\n",
    "    # エピソード完了\n",
    "    if dones.any():\n",
    "        print('info:', info)\n",
    "        break"
   ]
  },
  {
   "cell_type": "markdown",
   "metadata": {
    "id": "410oNHiUfg3Z"
   },
   "source": [
    "# create total_reward list and plot"
   ]
  },
  {
   "cell_type": "code",
   "execution_count": null,
   "metadata": {
    "id": "wE11aF3PG51b"
   },
   "outputs": [],
   "source": [
    "\n",
    "\n",
    "import numpy as np\n",
    "\n",
    "plt.figure(figsize=(30, 10))\n",
    "print('info:', len(info))\n",
    "total_profit_list = []\n",
    "\n",
    "for inf in info:\n",
    "  total_profit_list.append(inf['total_reward'])\n",
    "\n",
    "plt.hist(np.array(total_profit_list))"
   ]
  },
  {
   "cell_type": "markdown",
   "metadata": {
    "id": "XE-xOGEDfjSw"
   },
   "source": [
    "# tensorboard"
   ]
  },
  {
   "cell_type": "code",
   "execution_count": null,
   "metadata": {
    "id": "8tFvqfW-oWbd"
   },
   "outputs": [],
   "source": [
    "# Load the TensorBoard notebook extension\n",
    "%load_ext tensorboard"
   ]
  },
  {
   "cell_type": "code",
   "execution_count": null,
   "metadata": {
    "id": "O074hE4mpLLo"
   },
   "outputs": [],
   "source": [
    "%tensorboard --logdir logs/"
   ]
  }
 ],
 "metadata": {
  "colab": {
   "collapsed_sections": [],
   "name": "AutoTrade7.ipynb ",
   "provenance": []
  },
  "gpuClass": "standard",
  "kernelspec": {
   "display_name": "Python 3 (ipykernel)",
   "language": "python",
   "name": "python3"
  },
  "language_info": {
   "codemirror_mode": {
    "name": "ipython",
    "version": 3
   },
   "file_extension": ".py",
   "mimetype": "text/x-python",
   "name": "python",
   "nbconvert_exporter": "python",
   "pygments_lexer": "ipython3",
   "version": "3.9.12"
  },
  "toc": {
   "base_numbering": 1,
   "nav_menu": {},
   "number_sections": true,
   "sideBar": true,
   "skip_h1_title": true,
   "title_cell": "Table of Contents",
   "title_sidebar": "Contents",
   "toc_cell": false,
   "toc_position": {},
   "toc_section_display": true,
   "toc_window_display": false
  }
 },
 "nbformat": 4,
 "nbformat_minor": 1
}
